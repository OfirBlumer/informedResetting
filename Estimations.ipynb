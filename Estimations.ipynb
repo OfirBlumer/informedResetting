{
 "cells": [
  {
   "cell_type": "markdown",
   "id": "fd09b990-a0ce-4c72-bdad-ddfebe8cbc41",
   "metadata": {},
   "source": [
    "# Estimations\n",
    "\n",
    "## Prediction of MFPT with ISR\n",
    "\n",
    "Here we provide an example of predicting the MFPT with ISR using available trajectories without resetting.\n",
    "The given example is for free diffusion in one-dimension from $x=1$ to $x=0$, with a resetting rate $r=1$ at $x>0$ and $r=0$ otherwise.\n",
    "For this example, there is an analytic solution in Ref. 28 of the manuscript. "
   ]
  },
  {
   "cell_type": "code",
   "execution_count": 3,
   "id": "43bb94bb-d407-4ada-a069-90b70c760bce",
   "metadata": {},
   "outputs": [
    {
     "name": "stdout",
     "output_type": "stream",
     "text": [
      "Analytic value:  1.5 ; Prediction with 1000 samples:  1.4720978134984999\n"
     ]
    }
   ],
   "source": [
    "import numpy as np\n",
    "\n",
    "N = 1000                   # Number of trajectories\n",
    "dt = 0.001                  # Time step\n",
    "D = 1                       # Diffusion coefficient\n",
    "scale = np.sqrt(2 * dt * D) # Coefficient of normal noise in Langevin dynamics\n",
    "r = 1                       # Resetting rate\n",
    "x0 = 1                      # Initial position\n",
    "\n",
    "PSI = 0 \n",
    "t_f = 0\n",
    "t_hat = 0\n",
    "\n",
    "for i in range(N):\n",
    "\n",
    "    # Sample a diffusive trajectory from x = 1 to the origin\n",
    "    x = np.array([x0] + list(np.random.normal(scale = scale, size = 999999))).cumsum()\n",
    "    ni = np.argmax(x < 0) if 0 != np.argmax(x < 0) else len(x)\n",
    "    x = x[:ni]\n",
    "    \n",
    "    p = r * (x > 1) * dt                          # The probability of resetting given that no resetting occurred previously (Eq. 3)\n",
    "    psi = (1 - p).cumprod() / (1 - p)             # Survival probability of trajectory i through Eq. 4\n",
    "    psi = psi * (psi > 0) \n",
    "    \n",
    "    PSI += psi[-1]                                # Adding the contribution of trajectory i in Eq. 5\n",
    "    t_f += psi[-1] * ni * dt                      # Adding the contribution of trajectory i in Eq. 7\n",
    "    t_hat += (p * psi * np.arange(ni)).sum() * dt # Adding the contribution of trajectory i in Eq. 9\n",
    "\n",
    "# Normalization\n",
    "\n",
    "PSI = PSI / N\n",
    "M = 1 / PSI # Eq. 6\n",
    "t_f = t_f / N / PSI\n",
    "t_hat = t_hat / N / (1 - PSI)\n",
    "\n",
    "MFPT = (M - 1) * t_hat + t_f                                       # The MFPT through Eq. 2\n",
    "analytic = -x0 ** 2 / (2 * D) + x0 * (x0 / D + 1 / np.sqrt(r * D)) # The analytic MFPT from ref. 28\n",
    "print(\"Analytic value: \", analytic, \"; Prediction with 1000 samples: \", MFPT)"
   ]
  },
  {
   "cell_type": "markdown",
   "id": "fad093f1-6f2a-4f22-a658-b762e5e8a7e1",
   "metadata": {},
   "source": [
    "## Kinetics inference\n",
    "\n",
    "Next we provide an example of kinetics inference through Taylor expansion of the MFPT as a function of resetting rate.\n",
    "First, we use the procedure above to predict the MFPT under resetting rates $> r^*$ from simulations with resetting rate $r^*$. Below we already provide these values. In the second step, we use them to estimate the derivatives at $r = r^*$ with finite difference method. Finally, we extrapolate the fitted function to $r = 0$ to estimate the unbiased MFPT."
   ]
  },
  {
   "cell_type": "code",
   "execution_count": 6,
   "id": "dfe0806d-ee6c-4d41-8b5f-8aacbe36e9cc",
   "metadata": {},
   "outputs": [
    {
     "name": "stdout",
     "output_type": "stream",
     "text": [
      "The predicted MFPT is 5.102528999166659 ns\n"
     ]
    }
   ],
   "source": [
    "def forwardExpansion(r,r0,delta,vals):\n",
    "    \"\"\"\n",
    "    r = the rate at which to estimate the MFPT\n",
    "    r0 = the rate used for the samples\n",
    "    delta = the distance between grid points\n",
    "    vals = the MFPT at the grid points\n",
    "    \"\"\"\n",
    "    first = (-49/20*vals[0] + 6*vals[1] -15/2*vals[2] + 20/3*vals[3] -15/4*vals[4] + 6/5*vals[5] -1/6*vals[6])/delta\n",
    "    second = (469/90*vals[0] -223/10*vals[1] +879/20*vals[2] -949/18*vals[3] +41*vals[4] -201/10*vals[5] +1019/180*vals[6]-7/10*vals[7])/(delta**2)\n",
    "    third = (-801/80*vals[0] +349/6*vals[1] -18353/120*vals[2] +2391/10*vals[3] -1457/6*vals[4] +4891/30*vals[5] -561/8*vals[6]+527/30*vals[7]-469/240*vals[8])/(delta**3)\n",
    "    fourth = (1069/80*vals[0] -1316/15*vals[1] +15289/60*vals[2] -2144/5*vals[3] +10993/24*vals[4] -4772/15*vals[5] +2803/20*vals[6]-536/15*vals[7]+967/240 *vals[8])/(delta**4)\n",
    "    \n",
    "    return vals[0] + first*(r-r0) + second*(r-r0)**2/2 + third*(r-r0)**3/6 + fourth*(r-r0)**4/24\n",
    "\n",
    "predictions = [3.606,2.690,2.181,1.885,1.688,1.544,1.433,1.3452508,1.273]\n",
    "rate = 1\n",
    "\n",
    "print(f\"The predicted MFPT is {forwardExpansion(0,rate,rate,predictions)} ns\")"
   ]
  }
 ],
 "metadata": {
  "kernelspec": {
   "display_name": "Python 3 (ipykernel)",
   "language": "python",
   "name": "python3"
  },
  "language_info": {
   "codemirror_mode": {
    "name": "ipython",
    "version": 3
   },
   "file_extension": ".py",
   "mimetype": "text/x-python",
   "name": "python",
   "nbconvert_exporter": "python",
   "pygments_lexer": "ipython3",
   "version": "3.8.10"
  }
 },
 "nbformat": 4,
 "nbformat_minor": 5
}
